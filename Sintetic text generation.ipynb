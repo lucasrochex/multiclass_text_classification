{
 "cells": [
  {
   "cell_type": "code",
   "execution_count": 12,
   "id": "f0f3db19",
   "metadata": {},
   "outputs": [],
   "source": [
    "#!pip install -q -U google-genai"
   ]
  },
  {
   "cell_type": "code",
   "execution_count": 13,
   "id": "e66933b1",
   "metadata": {
    "scrolled": true
   },
   "outputs": [],
   "source": [
    "#!pip install google-generativeai"
   ]
  },
  {
   "cell_type": "code",
   "execution_count": 1,
   "id": "6f78e290-7eaa-47de-b3ac-9008c5059551",
   "metadata": {},
   "outputs": [],
   "source": [
    "#!pip install pandas"
   ]
  },
  {
   "cell_type": "code",
   "execution_count": 20,
   "id": "d2e1ab78-4d95-4e2d-8827-56e853260273",
   "metadata": {},
   "outputs": [],
   "source": [
    "import json \n",
    "import os\n",
    "import google.generativeai as genai\n",
    "import time\n",
    "import pandas as pd"
   ]
  },
  {
   "cell_type": "markdown",
   "id": "bb5e752b-805f-4842-b6b3-1f78ebe365b6",
   "metadata": {},
   "source": [
    "#### Using Google Gemini to generate a sintetic dataset for expense classification"
   ]
  },
  {
   "cell_type": "code",
   "execution_count": 11,
   "id": "f314f683-c1a7-4378-b959-9646dd8257bd",
   "metadata": {},
   "outputs": [],
   "source": [
    "categories_dict = {\n",
    "  \"Housing & Utilities\": [\n",
    "    \"Rent/Mortgage\",\n",
    "    \"Property Taxes\",\n",
    "    #\"Home Insurance\",\n",
    "    \"Home Maintenance & Repairs\",\n",
    "    #\"Home Security Systems\",\n",
    "    \"Electricity\",\n",
    "    \"Water & Sewer\",\n",
    "    #\"Natural Gas\",\n",
    "    #\"Trash Collection\",\n",
    "    \"Internet, phone and streaming services\",\n",
    "    #\"Cable/Streaming Services\",\n",
    "    #\"Phone (Mobile & Landline)\"\n",
    "  ],\n",
    "  \"Food & Dining\": [\n",
    "    \"Groceries\",\n",
    "    \"Restaurants, Take away and Dining Out\",\n",
    "    #\"Fast Food\",\n",
    "    #\"Coffee Shops\",\n",
    "    #\"Bars & Nightlife\",\n",
    "    #\"Meal Delivery (DoorDash, Uber Eats, etc.)\",\n",
    "    #\"Work/School Cafeteria\"\n",
    "  ],\n",
    "  \"Transportation\": [\n",
    "    \"Fuel/Gasoline\",\n",
    "    \"Public Transport (Bus, Train, Subway)\",\n",
    "    \"Ride-Sharing (Uber, Lyft)\",\n",
    "    \"Car Loan Payments\",\n",
    "    \"Car Insurance\",\n",
    "    \"Vehicle Maintenance & Repairs\",\n",
    "  ]\n",
    "}"
   ]
  },
  {
   "cell_type": "code",
   "execution_count": 28,
   "id": "79187670-a7c9-4238-a8b2-e900b135622e",
   "metadata": {},
   "outputs": [],
   "source": [
    "lines = []"
   ]
  },
  {
   "cell_type": "code",
   "execution_count": 39,
   "id": "cae15f32-1999-4180-b970-d903615eccad",
   "metadata": {
    "scrolled": true
   },
   "outputs": [
    {
     "name": "stdout",
     "output_type": "stream",
     "text": [
      "[{'category': 'Public Transport', 'human_strings': ['bus ticket', 'one way bus ticket', 'round trip bus ticket', 'bus fare', 'bus pass', 'monthly bus pass', 'bus ticket to the city center', 'bus ride', 'bus journey', 'journey by bus']}, {'category': 'Public Transport', 'human_strings': ['train ticket', 'train fare', 'train pass', 'railway ticket', 'commuter train', 'express train ticket', 'train to the airport', 'train ride', 'train journey', 'journey by train']}, {'category': 'Public Transport', 'human_strings': ['subway ticket', 'metro ticket', 'underground ticket', 'subway fare', 'metro fare', 'tube ticket', 'subway pass', 'daily subway pass', 'subway ride', 'subway journey']}, {'category': 'Public Transport', 'human_strings': ['bus to work', 'train to work', 'subway to work', 'bus to home', 'train to home', 'subway to home', 'bus commute', 'train commute', 'subway commute', 'daily commute by bus']}, {'category': 'Public Transport', 'human_strings': ['bus ticket purchase', 'train ticket purchase', 'subway ticket purchase', 'bought bus ticket', 'bought train ticket', 'bought subway ticket', 'purchase bus pass', 'purchase train pass', 'purchase subway pass', 'top up subway card']}]\n",
      "[{'category': 'Ride-Sharing', 'human_strings': ['Uber ride to the airport', 'Lyft to work', 'UberXL for the family', 'Lyft ride home from dinner', 'Uber eats delivery', \"Uber to John's house\", 'Lyft from concert', '$25 Uber trip', 'Uber pool to the game', 'Lyft shared ride to office']}, {'category': 'Ride-Sharing', 'human_strings': ['Uber to the airport. Expensive!', 'Lyft, quick and easy', 'UberXL - needed more space', 'Lyft was cheaper than Uber', 'Uber eats - late again!', \"Uber - John's place\", 'Lyft after concert, long wait', 'Uber - $25. Ouch!', 'Uber pool, saved money', 'Lyft shared ride - full car']}, {'category': 'Ride-Sharing', 'human_strings': ['Airport Uber', 'Work Lyft', 'Family UberXL', 'Dinner Lyft', 'Uber Eats delivery again', \"John's house Uber\", 'Concert Lyft', 'Expensive Uber', 'Game Uber pool', 'Office Lyft shared']}, {'category': 'Ride-Sharing', 'human_strings': ['Uber - airport transfer', 'Lyft - commute', 'UberXL - family trip', 'Lyft - dinner', 'Uber Eats - late!', 'Uber - visit John', 'Lyft - post concert', 'Pricey Uber ride', 'Uber pool - sporting event', 'Lyft - shared ride to work']}, {'category': 'Ride-Sharing', 'human_strings': ['Uber to the airport, ugh', 'Lyft - another day at the office', 'UberXL for my kids', 'Dinner Lyft ride', 'Uber eats, always late', 'Uber to see John', 'Lyft from the concert, fun', 'Expensive Uber trip!', 'Game Uber pool ride', 'Lyft shared ride - good deal']}]\n",
      "[{'category': 'Car Insurance', 'human_strings': ['car insurance payment', 'paid car insurance', 'insurance for my car', 'auto insurance', 'renewal of car insurance', 'car insurance premium', 'monthly car insurance', 'my car insurance', 'payment for car insurance', 'insurance payment for the car']}, {'category': 'Car Insurance', 'human_strings': ['car insurance', 'insurance', 'auto insurance payment', 'paid my car insurance', 'car insurance bill', 'settled car insurance', 'car insurance due', 'car insurance is paid', 'finished car insurance payment', 'completed car insurance payment']}, {'category': 'Car Insurance', 'human_strings': ['insurance premium for car', 'car insurance premium payment', 'paid the car insurance premium', 'car insurance premium due', 'car insurance premium renewal', 'renewed car insurance premium', 'my car insurance premium', 'car insurance premium payment confirmation', 'car insurance premium invoice', 'car insurance premium receipt']}, {'category': 'Car Insurance', 'human_strings': ['comprehensive car insurance', 'third party car insurance', 'liability car insurance', 'collision car insurance', 'car insurance coverage', 'car insurance policy', 'car insurance details', 'car insurance documents', 'car insurance information', 'car insurance quotes']}, {'category': 'Car Insurance', 'human_strings': ['car insurance claim', 'car insurance claim payment', 'filed a car insurance claim', 'car insurance claim process', 'car insurance claim status', 'car insurance claim approved', 'car insurance claim denied', 'car insurance claim rejected', 'car insurance claim settlement', 'car insurance claim amount']}]\n",
      "[{'category': 'Vehicle Maintenance & Repairs', 'human_strings': ['new tires for my car', 'tire change', 'replace the old tires', '4 new tires', 'winter tires', 'summer tires', 'changed all four tires', 'tire rotation and balance', 'tire repair', 'flat tire repair', 'oil change', 'oil change and filter', 'oil filter change', 'oil and filter change', 'changed the oil', 'new oil filter', 'replace the oil filter', 'engine oil change', 'check engine light', 'engine diagnostic', 'car diagnostic', 'diagnostic check', 'brake pads replacement', 'brake pads changed', 'brake fluid flush', 'new brake pads', 'replace brake pads', 'brake service', 'new brakes', 'replace the brakes', 'brake repair', 'fix brakes', 'replaced the alternator', 'alternator replacement', 'alternator repair', 'new alternator', 'battery replacement', 'new car battery', 'replace car battery', 'battery change', 'fix the battery', 'replace serpentine belt', 'new serpentine belt', 'serpentine belt replacement', 'timing belt replacement', 'new timing belt', 'replace timing belt', 'coolant flush', 'coolant change', 'transmission fluid change', 'new transmission fluid', 'transmission service', 'tune up', 'car tune up', 'engine tune up', 'spark plug replacement', 'new spark plugs', 'replace spark plugs', 'wiper blades replacement', 'new wiper blades', 'replace wiper blades', 'windshield wiper blades', 'headlight bulb replacement', 'new headlight bulbs', 'replace headlight bulbs', 'car wash and wax', 'car detailing', 'fixed a scratch', 'body repair', 'minor body damage repair', 'paint repair', 'car wash', 'wheel alignment', 'alignment check', 'wheel balancing', 'fixed the exhaust', 'exhaust repair', 'muffler replacement', 'new muffler', 'replace muffler', 'AC repair', 'air conditioning repair', 'fix AC', 'repaired the power steering', 'power steering repair', 'replaced a broken mirror', 'side mirror replacement', 'new side mirror', 'replaced the clutch', 'clutch replacement', 'new clutch', 'fix a leak', 'leaking fluid repair', 'fluid leak repair']}, {'category': 'Vehicle Maintenance & Repairs', 'human_strings': ['car maintenance', 'regular car service', 'scheduled maintenance', '6 month car service', 'annual car check-up']}, {'category': 'Vehicle Maintenance & Repairs', 'human_strings': ['replaced the shocks', 'shock absorbers replacement', 'new shocks', 'struts replacement', 'new struts', 'replaced the struts']}, {'category': 'Vehicle Maintenance & Repairs', 'human_strings': ['fixed the window', 'window repair', 'broken window repair', 'power window repair', 'replaced a window regulator', 'window regulator replacement']}, {'category': 'Vehicle Maintenance & Repairs', 'human_strings': ['replaced the fuel pump', 'fuel pump replacement', 'new fuel pump', 'fuel injector cleaning', 'fuel filter replacement', 'new fuel filter']}]\n"
     ]
    }
   ],
   "source": [
    "key = 'YOUR KEY GOES HERE'\n",
    "for macro_category in categories_dict.keys():\n",
    "    micro_categories = categories_dict[macro_category]\n",
    "    for micro_category in micro_categories:\n",
    "        prompt = f\"\"\"The goal is to create a sintetic dataset for expenditure classification.\n",
    "        \n",
    "        The dataset will have a simulated human prompt describing an expense and its classification.\n",
    "        \n",
    "        For example: \n",
    "        human string: unleaded gasoline shell \n",
    "        category: Fuel\n",
    "        \n",
    "        Use this JSON schema:\n",
    "        \n",
    "        category = 'category': str, 'human_strings': list[str]\n",
    "        Return: list[]\n",
    "        \n",
    "        Create 100 hundred dataset entries for the category: {micro_category}.\n",
    "        \n",
    "        Include variations in writting that busy humans would do\n",
    "        \n",
    "        \"\"\"\n",
    "        \n",
    "        \n",
    "        generation_config = {\n",
    "          \"temperature\": 1,\n",
    "          \"top_p\": 0.95,\n",
    "          \"top_k\": 40,\n",
    "          \"max_output_tokens\": 8192,\n",
    "          \"response_mime_type\": \"application/json\",\n",
    "        }\n",
    "        \n",
    "        \n",
    "        client = genai.Client(api_key=key)\n",
    "        response = client.models.generate_content(\n",
    "            model='gemini-1.5-flash',\n",
    "            contents=prompt,\n",
    "            config=generation_config\n",
    "        )\n",
    "        \n",
    "        # Use the response as a JSON string.\n",
    "        #print(response.text)\n",
    "        dataset = json.loads(response.text)\n",
    "        print(dataset[0:5])\n",
    "        for entry in dataset:\n",
    "            cat = entry['category']\n",
    "            for human_string in entry['human_strings']:\n",
    "                lines.append([cat, macro_category, human_string])\n",
    "        time.sleep(10)"
   ]
  },
  {
   "cell_type": "code",
   "execution_count": 40,
   "id": "a9140fe1-1843-42a7-8b28-06216de572e6",
   "metadata": {},
   "outputs": [],
   "source": [
    "text_dataset = pd.DataFrame(data=lines, columns = ['micro_category', 'macro_category', 'human_strings'])"
   ]
  },
  {
   "cell_type": "code",
   "execution_count": 41,
   "id": "4da42abd-9abf-4e08-be21-f73f9489ae72",
   "metadata": {},
   "outputs": [
    {
     "data": {
      "text/html": [
       "<div>\n",
       "<style scoped>\n",
       "    .dataframe tbody tr th:only-of-type {\n",
       "        vertical-align: middle;\n",
       "    }\n",
       "\n",
       "    .dataframe tbody tr th {\n",
       "        vertical-align: top;\n",
       "    }\n",
       "\n",
       "    .dataframe thead th {\n",
       "        text-align: right;\n",
       "    }\n",
       "</style>\n",
       "<table border=\"1\" class=\"dataframe\">\n",
       "  <thead>\n",
       "    <tr style=\"text-align: right;\">\n",
       "      <th></th>\n",
       "      <th>micro_category</th>\n",
       "      <th>macro_category</th>\n",
       "      <th>human_strings</th>\n",
       "    </tr>\n",
       "  </thead>\n",
       "  <tbody>\n",
       "    <tr>\n",
       "      <th>0</th>\n",
       "      <td>Rent/Mortgage</td>\n",
       "      <td>Housing &amp; Utilities</td>\n",
       "      <td>rent august</td>\n",
       "    </tr>\n",
       "    <tr>\n",
       "      <th>1</th>\n",
       "      <td>Rent/Mortgage</td>\n",
       "      <td>Housing &amp; Utilities</td>\n",
       "      <td>rent for august</td>\n",
       "    </tr>\n",
       "    <tr>\n",
       "      <th>2</th>\n",
       "      <td>Rent/Mortgage</td>\n",
       "      <td>Housing &amp; Utilities</td>\n",
       "      <td>august rent payment</td>\n",
       "    </tr>\n",
       "    <tr>\n",
       "      <th>3</th>\n",
       "      <td>Rent/Mortgage</td>\n",
       "      <td>Housing &amp; Utilities</td>\n",
       "      <td>rent</td>\n",
       "    </tr>\n",
       "    <tr>\n",
       "      <th>4</th>\n",
       "      <td>Rent/Mortgage</td>\n",
       "      <td>Housing &amp; Utilities</td>\n",
       "      <td>rent payment</td>\n",
       "    </tr>\n",
       "    <tr>\n",
       "      <th>...</th>\n",
       "      <td>...</td>\n",
       "      <td>...</td>\n",
       "      <td>...</td>\n",
       "    </tr>\n",
       "    <tr>\n",
       "      <th>3429</th>\n",
       "      <td>Vehicle Maintenance &amp; Repairs</td>\n",
       "      <td>Transportation</td>\n",
       "      <td>automatic emergency braking installation</td>\n",
       "    </tr>\n",
       "    <tr>\n",
       "      <th>3430</th>\n",
       "      <td>Vehicle Maintenance &amp; Repairs</td>\n",
       "      <td>Transportation</td>\n",
       "      <td>installed a collision avoidance system</td>\n",
       "    </tr>\n",
       "    <tr>\n",
       "      <th>3431</th>\n",
       "      <td>Vehicle Maintenance &amp; Repairs</td>\n",
       "      <td>Transportation</td>\n",
       "      <td>collision avoidance system installation</td>\n",
       "    </tr>\n",
       "    <tr>\n",
       "      <th>3432</th>\n",
       "      <td>Vehicle Maintenance &amp; Repairs</td>\n",
       "      <td>Transportation</td>\n",
       "      <td>installed a driver assistance system</td>\n",
       "    </tr>\n",
       "    <tr>\n",
       "      <th>3433</th>\n",
       "      <td>Vehicle Maintenance &amp; Repairs</td>\n",
       "      <td>Transportation</td>\n",
       "      <td>driver assistance system installation</td>\n",
       "    </tr>\n",
       "  </tbody>\n",
       "</table>\n",
       "<p>3434 rows × 3 columns</p>\n",
       "</div>"
      ],
      "text/plain": [
       "                     micro_category       macro_category  \\\n",
       "0                     Rent/Mortgage  Housing & Utilities   \n",
       "1                     Rent/Mortgage  Housing & Utilities   \n",
       "2                     Rent/Mortgage  Housing & Utilities   \n",
       "3                     Rent/Mortgage  Housing & Utilities   \n",
       "4                     Rent/Mortgage  Housing & Utilities   \n",
       "...                             ...                  ...   \n",
       "3429  Vehicle Maintenance & Repairs       Transportation   \n",
       "3430  Vehicle Maintenance & Repairs       Transportation   \n",
       "3431  Vehicle Maintenance & Repairs       Transportation   \n",
       "3432  Vehicle Maintenance & Repairs       Transportation   \n",
       "3433  Vehicle Maintenance & Repairs       Transportation   \n",
       "\n",
       "                                 human_strings  \n",
       "0                                  rent august  \n",
       "1                              rent for august  \n",
       "2                          august rent payment  \n",
       "3                                         rent  \n",
       "4                                 rent payment  \n",
       "...                                        ...  \n",
       "3429  automatic emergency braking installation  \n",
       "3430    installed a collision avoidance system  \n",
       "3431   collision avoidance system installation  \n",
       "3432      installed a driver assistance system  \n",
       "3433     driver assistance system installation  \n",
       "\n",
       "[3434 rows x 3 columns]"
      ]
     },
     "execution_count": 41,
     "metadata": {},
     "output_type": "execute_result"
    }
   ],
   "source": [
    "text_dataset"
   ]
  },
  {
   "cell_type": "code",
   "execution_count": 42,
   "id": "65eeb3c2-ea4b-4991-a195-b9c327865a74",
   "metadata": {},
   "outputs": [
    {
     "data": {
      "text/plain": [
       "array(['Rent/Mortgage', 'Property Taxes', 'Home Maintenance & Repairs',\n",
       "       'Electricity', 'Water & Sewer',\n",
       "       'Internet, phone and streaming services', 'Groceries',\n",
       "       'Restaurants, Take away and Dining Out', 'Fuel/Gasoline',\n",
       "       'Public Transport', 'Ride-Sharing', 'Car Loan Payments',\n",
       "       'Car Insurance', 'Vehicle Maintenance & Repairs'], dtype=object)"
      ]
     },
     "execution_count": 42,
     "metadata": {},
     "output_type": "execute_result"
    }
   ],
   "source": [
    "text_dataset['micro_category'].unique()"
   ]
  },
  {
   "cell_type": "code",
   "execution_count": 21,
   "id": "21bcfa31-9bb8-48f2-8d0a-4d4f071b243c",
   "metadata": {},
   "outputs": [],
   "source": [
    "text_dataset = pd.DataFrame(columns = ['micro_category', 'macro_category', 'human_strings'])"
   ]
  },
  {
   "cell_type": "code",
   "execution_count": 43,
   "id": "ea07f047-4f6c-4199-8a4a-867806f0af4d",
   "metadata": {},
   "outputs": [],
   "source": [
    "text_dataset.to_csv('expense_classification.csv', sep = '|')"
   ]
  }
 ],
 "metadata": {
  "kernelspec": {
   "display_name": "Python 3 (ipykernel)",
   "language": "python",
   "name": "python3"
  },
  "language_info": {
   "codemirror_mode": {
    "name": "ipython",
    "version": 3
   },
   "file_extension": ".py",
   "mimetype": "text/x-python",
   "name": "python",
   "nbconvert_exporter": "python",
   "pygments_lexer": "ipython3",
   "version": "3.11.0rc1"
  }
 },
 "nbformat": 4,
 "nbformat_minor": 5
}
